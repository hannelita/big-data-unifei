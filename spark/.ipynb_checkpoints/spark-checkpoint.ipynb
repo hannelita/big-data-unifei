{
 "cells": [
  {
   "cell_type": "code",
   "execution_count": 25,
   "metadata": {},
   "outputs": [
    {
     "data": {
      "text/plain": [
       "['E:\\\\Dropbox\\\\Doutorado\\\\big-data\\\\big-data-unifei\\\\data_import',\n",
       " 'E:\\\\Dropbox\\\\Doutorado\\\\big-data\\\\big-data-unifei\\\\data_import',\n",
       " '..\\\\data_import',\n",
       " 'E:\\\\Dropbox\\\\Doutorado\\\\big-data\\\\big-data-unifei\\\\data_import',\n",
       " 'E:\\\\Dropbox\\\\Doutorado\\x08ig-data\\x08ig-data-unifei\\\\data_import',\n",
       " 'E:\\\\Dropbox\\\\Doutorado\\x08ig-data\\x08ig-data-unifei\\\\data_import',\n",
       " 'C:\\\\Users\\\\Lenio\\\\AppData\\\\Local\\\\Temp\\\\spark-66c3aaec-20a0-48f1-9ec5-ed7e063b7121\\\\userFiles-abb6e524-33be-4ff2-9753-dbbbf041639e',\n",
       " 'E:\\\\Dropbox\\\\Doutorado\\\\big-data\\\\big-data-unifei\\\\spark',\n",
       " 'E:\\\\Spark\\\\spark-2.4.1-bin-hadoop2.7\\\\python\\\\lib\\\\py4j-0.10.7-src.zip',\n",
       " 'E:\\\\Spark\\\\spark-2.4.1-bin-hadoop2.7\\\\python',\n",
       " 'E:\\\\Dropbox\\\\Doutorado\\\\big-data\\\\big-data-unifei\\\\spark',\n",
       " 'c:\\\\users\\\\lenio\\\\appdata\\\\local\\\\programs\\\\python\\\\python37-32\\\\python37.zip',\n",
       " 'c:\\\\users\\\\lenio\\\\appdata\\\\local\\\\programs\\\\python\\\\python37-32\\\\DLLs',\n",
       " 'c:\\\\users\\\\lenio\\\\appdata\\\\local\\\\programs\\\\python\\\\python37-32\\\\lib',\n",
       " 'c:\\\\users\\\\lenio\\\\appdata\\\\local\\\\programs\\\\python\\\\python37-32',\n",
       " '',\n",
       " 'C:\\\\Users\\\\Lenio\\\\AppData\\\\Roaming\\\\Python\\\\Python37\\\\site-packages',\n",
       " 'c:\\\\users\\\\lenio\\\\appdata\\\\local\\\\programs\\\\python\\\\python37-32\\\\lib\\\\site-packages',\n",
       " 'C:\\\\Users\\\\Lenio\\\\AppData\\\\Roaming\\\\Python\\\\Python37\\\\site-packages\\\\IPython\\\\extensions',\n",
       " 'C:\\\\Users\\\\Lenio\\\\.ipython']"
      ]
     },
     "execution_count": 25,
     "metadata": {},
     "output_type": "execute_result"
    }
   ],
   "source": [
    "import sys\n",
    "sys.path"
   ]
  },
  {
   "cell_type": "code",
   "execution_count": 22,
   "metadata": {},
   "outputs": [],
   "source": [
    "sys.path.insert(0,'E:\\\\Dropbox\\\\Doutorado\\\\big-data\\\\big-data-unifei\\\\data_import')"
   ]
  },
  {
   "cell_type": "code",
   "execution_count": 26,
   "metadata": {},
   "outputs": [],
   "source": [
    "import excel_importer as imp"
   ]
  },
  {
   "cell_type": "code",
   "execution_count": 30,
   "metadata": {},
   "outputs": [
    {
     "ename": "AttributeError",
     "evalue": "'excel_importer' object has no attribute 'describe'",
     "output_type": "error",
     "traceback": [
      "\u001b[1;31m---------------------------------------------------------------------------\u001b[0m",
      "\u001b[1;31mAttributeError\u001b[0m                            Traceback (most recent call last)",
      "\u001b[1;32m<ipython-input-30-d0913e19d7b7>\u001b[0m in \u001b[0;36m<module>\u001b[1;34m\u001b[0m\n\u001b[1;32m----> 1\u001b[1;33m \u001b[0mvariable\u001b[0m \u001b[1;33m=\u001b[0m \u001b[0mimp\u001b[0m\u001b[1;33m.\u001b[0m\u001b[0mexcel_importer\u001b[0m\u001b[1;33m(\u001b[0m\u001b[1;33m)\u001b[0m\u001b[1;33m.\u001b[0m\u001b[0mdescribe\u001b[0m\u001b[1;33m;\u001b[0m\u001b[1;33m\u001b[0m\u001b[1;33m\u001b[0m\u001b[0m\n\u001b[0m",
      "\u001b[1;31mAttributeError\u001b[0m: 'excel_importer' object has no attribute 'describe'"
     ]
    }
   ],
   "source": [
    "variable = imp.import_file;"
   ]
  },
  {
   "cell_type": "code",
   "execution_count": null,
   "metadata": {},
   "outputs": [],
   "source": []
  }
 ],
 "metadata": {
  "kernelspec": {
   "display_name": "Python 3",
   "language": "python",
   "name": "python3"
  },
  "language_info": {
   "codemirror_mode": {
    "name": "ipython",
    "version": 3
   },
   "file_extension": ".py",
   "mimetype": "text/x-python",
   "name": "python",
   "nbconvert_exporter": "python",
   "pygments_lexer": "ipython3",
   "version": "3.7.2"
  }
 },
 "nbformat": 4,
 "nbformat_minor": 2
}
