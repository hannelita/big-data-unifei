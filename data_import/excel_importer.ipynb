{
 "cells": [
  {
   "cell_type": "code",
   "execution_count": 1,
   "metadata": {},
   "outputs": [],
   "source": [
    "import scipy.io as sio\n",
    "import numpy as np\n",
    "import pandas as pd"
   ]
  },
  {
   "cell_type": "code",
   "execution_count": 2,
   "metadata": {},
   "outputs": [],
   "source": [
    "def import_file():       \n",
    "\n",
    "    all_data = pd.DataFrame()\n",
    "\n",
    "    path = \"E:\\\\Cerin_big-data\\\\\"\n",
    "    files = [\"Test-Jan-01-Jan-05.xlsx\", \"Test-Jul-01-Jul-05.xlsx\"]\n",
    "    #files = [\"Test-InvalidValues.xlsx\"]\n",
    "\n",
    "    for f in files:\n",
    "        full_path = path + f\n",
    "        print(full_path)\n",
    "        df = pd.read_excel(full_path)\n",
    "        all_data = all_data.append(df,ignore_index=True)\n",
    "\n",
    "    return all_data"
   ]
  },
  {
   "cell_type": "code",
   "execution_count": 3,
   "metadata": {},
   "outputs": [],
   "source": [
    "def show_info(column, percentil, last_size , current_size):\n",
    "    print(\"Column: {:>7} \\t Percentile: {:>18} \\t Before/Current/Removed: {:>8} / {:>8} / {:>5}\"\n",
    "        .format(column, percentil, last_size, current_size, last_size - current_size))"
   ]
  },
  {
   "cell_type": "code",
   "execution_count": 4,
   "metadata": {},
   "outputs": [],
   "source": [
    "def filter_data(dataset):\n",
    "    last_size = len(dataset)\n",
    "    for column in list(dataset):\n",
    "        dataset = dataset[pd.to_numeric(dataset[column], errors='coerce').notnull()]\n",
    "        percentil = np.percentile(dataset[column],1, interpolation='lower')\n",
    "        dataset = dataset[dataset[column] > percentil]\n",
    "        \n",
    "        current_size = len(dataset[column])\n",
    "        show_info(column, percentil, last_size, current_size)        \n",
    "        last_size = current_size\n",
    "    return dataset\t"
   ]
  },
  {
   "cell_type": "code",
   "execution_count": 5,
   "metadata": {},
   "outputs": [
    {
     "name": "stdout",
     "output_type": "stream",
     "text": [
      "E:\\Cerin_big-data\\Test-Jan-01-Jan-05.xlsx\n",
      "E:\\Cerin_big-data\\Test-Jul-01-Jul-05.xlsx\n"
     ]
    }
   ],
   "source": [
    "data = import_file()"
   ]
  },
  {
   "cell_type": "code",
   "execution_count": 7,
   "metadata": {},
   "outputs": [
    {
     "name": "stdout",
     "output_type": "stream",
     "text": [
      "Column:    Data \t Percentile: 2018-01-01T07:35:30.000000000 \t Before/Current/Removed:    12717 /    12589 /   128\n",
      "Column: Phase A Current \t Percentile:                  0 \t Before/Current/Removed:    12589 /    10970 /  1619\n",
      "Column: Phase B Current \t Percentile: 0.0138623015955091 \t Before/Current/Removed:    10970 /    10860 /   110\n",
      "Column: Phase C Current \t Percentile: 0.0309892389923334 \t Before/Current/Removed:    10860 /    10751 /   109\n",
      "Column: Current Total \t Percentile:                  0 \t Before/Current/Removed:    10751 /     9656 /  1095\n",
      "Column: Power Factor \t Percentile:  -99.9995651245117 \t Before/Current/Removed:     9656 /     7339 /  2317\n",
      "Column: Frequency \t Percentile:   59.9704551696777 \t Before/Current/Removed:     7339 /     7265 /    74\n",
      "Column: Apparent Power \t Percentile:   62.9547309875488 \t Before/Current/Removed:     7265 /     7192 /    73\n",
      "Column: Active Power \t Percentile:   94.9208297729492 \t Before/Current/Removed:     7192 /     7120 /    72\n",
      "Column: Reactive Power \t Percentile:   13.5935211181641 \t Before/Current/Removed:     7120 /     7048 /    72\n",
      "Column: Power Production \t Percentile:           29806788 \t Before/Current/Removed:     7048 /     6977 /    71\n",
      "Column: Phase AB Voltage \t Percentile:   386.853759765625 \t Before/Current/Removed:     6977 /     6907 /    70\n",
      "Column: Phase BC Voltage \t Percentile:   387.722839355469 \t Before/Current/Removed:     6907 /     6837 /    70\n",
      "Column: Phase CA Voltage \t Percentile:   387.370941162109 \t Before/Current/Removed:     6837 /     6768 /    69\n"
     ]
    }
   ],
   "source": [
    "filtered = filter_data(data)"
   ]
  },
  {
   "cell_type": "code",
   "execution_count": null,
   "metadata": {},
   "outputs": [],
   "source": []
  }
 ],
 "metadata": {
  "kernelspec": {
   "display_name": "Python 3",
   "language": "python",
   "name": "python3"
  },
  "language_info": {
   "codemirror_mode": {
    "name": "ipython",
    "version": 3
   },
   "file_extension": ".py",
   "mimetype": "text/x-python",
   "name": "python",
   "nbconvert_exporter": "python",
   "pygments_lexer": "ipython3",
   "version": "3.7.2"
  }
 },
 "nbformat": 4,
 "nbformat_minor": 2
}
