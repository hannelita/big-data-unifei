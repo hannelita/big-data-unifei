{
 "cells": [
  {
   "cell_type": "code",
   "execution_count": 1,
   "metadata": {},
   "outputs": [],
   "source": [
    "import scipy.io as sio\n",
    "import numpy as np\n",
    "import pandas as pd\n",
    "from pyspark.sql.functions import *"
   ]
  },
  {
   "cell_type": "code",
   "execution_count": 2,
   "metadata": {},
   "outputs": [],
   "source": [
    "def import_file():       \n",
    "    all_data = pd.DataFrame()\n",
    "    path = \"E:\\\\Cerin_big-data\\\\\"\n",
    "    #files = [\"Test-Jan-01-Jan-05.xlsx\", \"Test-Jul-01-Jul-05.xlsx\"]\n",
    "    files = [\"CERIn-Big-Data-2018-01-01-to-2018-07-01-Values.xlsx\"]\n",
    "    for f in files:\n",
    "        full_path = path + f\n",
    "        print(full_path)\n",
    "        column_list = {'Phase A Current','Phase B Current','Phase C Current','Current Total','Power Factor',\n",
    "                      'Frequency','Apparent Power','Active Power','Reactive Power','Power Production',\n",
    "                       'Phase AB Voltage','Phase BC Voltage','Phase CA Voltage'}\n",
    "        converters = {col: float for col in column_list}\n",
    "        na_values=['I/O Timeout','Invalid Data']\n",
    "        df = pd.read_excel(full_path,header=0, na_values=na_values, thousands=\".\", decimal=\",\")\n",
    "        all_data = all_data.append(df,ignore_index=True)\n",
    "    \n",
    "    return all_data"
   ]
  },
  {
   "cell_type": "code",
   "execution_count": 3,
   "metadata": {},
   "outputs": [],
   "source": [
    "def show_info(column, percentil, last_size , current_size):\n",
    "    print(\"Column: {:>7} \\t Percentile: {:>18} \\t Bef/Actual/Del: {:>8} / {:>8} / {:>5}\"\n",
    "        .format(column, percentil, last_size, current_size, last_size - current_size))"
   ]
  },
  {
   "cell_type": "code",
   "execution_count": 4,
   "metadata": {},
   "outputs": [],
   "source": [
    "def filter_data(dataset):\n",
    "    last_size = len(dataset)\n",
    "    colums = [k for k in list(dataset) if 'data' not in k.lower()]\n",
    "    for column in colums:\n",
    "        #dataset = dataset[pd.to_numeric(dataset[column], errors='coerce').notnull()]\n",
    "        percentil = np.nanpercentile(dataset[column],1, interpolation='lower')\n",
    "        \n",
    "        ################# GOSTARIA DE UMA ATENÇÃO MAIOR AQUI, POIS NÃO SEI SE ESTÁ CORRETO ESSE TIPO DE \n",
    "        ################# VERIFICAÇÃO \"> QUE\".\n",
    "        dataset = dataset[dataset[column] > percentil]\n",
    "        \n",
    "        current_size = len(dataset[column])\n",
    "        show_info(column, percentil, last_size, current_size)        \n",
    "        last_size = current_size\n",
    "    return dataset\t"
   ]
  },
  {
   "cell_type": "code",
   "execution_count": 5,
   "metadata": {},
   "outputs": [],
   "source": [
    "def write_to_csv():\n",
    "    path = \"E://Cerin_big-data//dataframe3.csv\"\n",
    "    df.coalesce(1).write.format(\"com.databricks.spark.csv\").option(\"header\", \"true\").option(\"thousands\", \".\").option(\"decimal\", \",\").save(path)"
   ]
  },
  {
   "cell_type": "code",
   "execution_count": 6,
   "metadata": {},
   "outputs": [
    {
     "name": "stdout",
     "output_type": "stream",
     "text": [
      "E:\\Cerin_big-data\\CERIn-Big-Data-2018-01-01-to-2018-07-01-Values.xlsx\n",
      "<class 'pandas.core.frame.DataFrame'>\n",
      "RangeIndex: 521401 entries, 0 to 521400\n",
      "Data columns (total 14 columns):\n",
      "Data                521401 non-null datetime64[ns]\n",
      "Phase A Current     506599 non-null float64\n",
      "Phase B Current     506599 non-null float64\n",
      "Phase C Current     506599 non-null float64\n",
      "Current Total       506599 non-null float64\n",
      "Power Factor        240634 non-null float64\n",
      "Frequency           506599 non-null float64\n",
      "Apparent Power      240809 non-null float64\n",
      "Active Power        506599 non-null float64\n",
      "Reactive Power      240809 non-null float64\n",
      "Power Production    506615 non-null float64\n",
      "Phase AB Voltage    501435 non-null float64\n",
      "Phase BC Voltage    501435 non-null float64\n",
      "Phase CA Voltage    501435 non-null float64\n",
      "dtypes: datetime64[ns](1), float64(13)\n",
      "memory usage: 55.7 MB\n",
      "Column: Phase A Current \t Percentile:                0.0 \t Before/Current/Removed:   521401 /   423509 / 97892\n",
      "Column: Phase B Current \t Percentile: 0.010464036837220192 \t Before/Current/Removed:   423509 /   419273 /  4236\n",
      "Column: Phase C Current \t Percentile: 0.02362186089158058 \t Before/Current/Removed:   419273 /   415080 /  4193\n",
      "Column: Current Total \t Percentile:                0.0 \t Before/Current/Removed:   415080 /   368004 / 47076\n",
      "Column: Power Factor \t Percentile: -99.99921417236328 \t Before/Current/Removed:   368004 /   237992 / 130012\n",
      "Column: Frequency \t Percentile: 59.933292388916016 \t Before/Current/Removed:   237992 /   235612 /  2380\n",
      "Column: Apparent Power \t Percentile:   53.7437629699707 \t Before/Current/Removed:   235612 /   233249 /  2363\n",
      "Column: Active Power \t Percentile:  75.75289916992188 \t Before/Current/Removed:   233249 /   230916 /  2333\n",
      "Column: Reactive Power \t Percentile:               12.0 \t Before/Current/Removed:   230916 /   228584 /  2332\n",
      "Column: Power Production \t Percentile:         29878100.0 \t Before/Current/Removed:   228584 /   226298 /  2286\n",
      "Column: Phase AB Voltage \t Percentile:      385.658203125 \t Before/Current/Removed:   226298 /   224035 /  2263\n",
      "Column: Phase BC Voltage \t Percentile:  387.1431884765625 \t Before/Current/Removed:   224035 /   221794 /  2241\n",
      "Column: Phase CA Voltage \t Percentile:  386.6869812011719 \t Before/Current/Removed:   221794 /   219576 /  2218\n",
      "<class 'pandas.core.frame.DataFrame'>\n",
      "Int64Index: 219576 entries, 4574 to 520601\n",
      "Data columns (total 14 columns):\n",
      "Data                219576 non-null datetime64[ns]\n",
      "Phase A Current     219576 non-null float64\n",
      "Phase B Current     219576 non-null float64\n",
      "Phase C Current     219576 non-null float64\n",
      "Current Total       219576 non-null float64\n",
      "Power Factor        219576 non-null float64\n",
      "Frequency           219576 non-null float64\n",
      "Apparent Power      219576 non-null float64\n",
      "Active Power        219576 non-null float64\n",
      "Reactive Power      219576 non-null float64\n",
      "Power Production    219576 non-null float64\n",
      "Phase AB Voltage    219576 non-null float64\n",
      "Phase BC Voltage    219576 non-null float64\n",
      "Phase CA Voltage    219576 non-null float64\n",
      "dtypes: datetime64[ns](1), float64(13)\n",
      "memory usage: 25.1 MB\n"
     ]
    },
    {
     "data": {
      "text/html": [
       "<div>\n",
       "<style scoped>\n",
       "    .dataframe tbody tr th:only-of-type {\n",
       "        vertical-align: middle;\n",
       "    }\n",
       "\n",
       "    .dataframe tbody tr th {\n",
       "        vertical-align: top;\n",
       "    }\n",
       "\n",
       "    .dataframe thead th {\n",
       "        text-align: right;\n",
       "    }\n",
       "</style>\n",
       "<table border=\"1\" class=\"dataframe\">\n",
       "  <thead>\n",
       "    <tr style=\"text-align: right;\">\n",
       "      <th></th>\n",
       "      <th>Data</th>\n",
       "      <th>Phase A Current</th>\n",
       "      <th>Phase B Current</th>\n",
       "      <th>Phase C Current</th>\n",
       "      <th>Current Total</th>\n",
       "      <th>Power Factor</th>\n",
       "      <th>Frequency</th>\n",
       "      <th>Apparent Power</th>\n",
       "      <th>Active Power</th>\n",
       "      <th>Reactive Power</th>\n",
       "      <th>Power Production</th>\n",
       "      <th>Phase AB Voltage</th>\n",
       "      <th>Phase BC Voltage</th>\n",
       "      <th>Phase CA Voltage</th>\n",
       "    </tr>\n",
       "  </thead>\n",
       "  <tbody>\n",
       "    <tr>\n",
       "      <th>4574</th>\n",
       "      <td>2018-01-02 14:07:00</td>\n",
       "      <td>3.335057</td>\n",
       "      <td>3.295057</td>\n",
       "      <td>3.335057</td>\n",
       "      <td>9.207820</td>\n",
       "      <td>-99.927567</td>\n",
       "      <td>59.981071</td>\n",
       "      <td>2005.604004</td>\n",
       "      <td>2005.488525</td>\n",
       "      <td>21.497658</td>\n",
       "      <td>29878138.0</td>\n",
       "      <td>388.025391</td>\n",
       "      <td>387.982635</td>\n",
       "      <td>387.053345</td>\n",
       "    </tr>\n",
       "    <tr>\n",
       "      <th>4575</th>\n",
       "      <td>2018-01-02 14:07:30</td>\n",
       "      <td>3.325196</td>\n",
       "      <td>3.285196</td>\n",
       "      <td>3.325196</td>\n",
       "      <td>8.901662</td>\n",
       "      <td>-99.924942</td>\n",
       "      <td>59.981052</td>\n",
       "      <td>1889.859009</td>\n",
       "      <td>1889.758179</td>\n",
       "      <td>19.510870</td>\n",
       "      <td>29878188.0</td>\n",
       "      <td>388.078949</td>\n",
       "      <td>387.959564</td>\n",
       "      <td>387.010468</td>\n",
       "    </tr>\n",
       "    <tr>\n",
       "      <th>4576</th>\n",
       "      <td>2018-01-02 14:08:00</td>\n",
       "      <td>3.315334</td>\n",
       "      <td>3.275334</td>\n",
       "      <td>3.315334</td>\n",
       "      <td>8.595504</td>\n",
       "      <td>-99.922318</td>\n",
       "      <td>59.981030</td>\n",
       "      <td>1762.594360</td>\n",
       "      <td>1762.482056</td>\n",
       "      <td>19.000000</td>\n",
       "      <td>29878202.0</td>\n",
       "      <td>388.132507</td>\n",
       "      <td>387.936493</td>\n",
       "      <td>386.967621</td>\n",
       "    </tr>\n",
       "    <tr>\n",
       "      <th>4577</th>\n",
       "      <td>2018-01-02 14:08:30</td>\n",
       "      <td>3.305472</td>\n",
       "      <td>3.265472</td>\n",
       "      <td>3.305472</td>\n",
       "      <td>8.289346</td>\n",
       "      <td>-99.919693</td>\n",
       "      <td>59.981010</td>\n",
       "      <td>1631.342407</td>\n",
       "      <td>1631.209595</td>\n",
       "      <td>19.000000</td>\n",
       "      <td>29878202.0</td>\n",
       "      <td>388.186066</td>\n",
       "      <td>387.913422</td>\n",
       "      <td>386.924774</td>\n",
       "    </tr>\n",
       "    <tr>\n",
       "      <th>4578</th>\n",
       "      <td>2018-01-02 14:09:00</td>\n",
       "      <td>3.295610</td>\n",
       "      <td>3.255610</td>\n",
       "      <td>3.295610</td>\n",
       "      <td>7.983187</td>\n",
       "      <td>-99.917068</td>\n",
       "      <td>59.980988</td>\n",
       "      <td>1518.218140</td>\n",
       "      <td>1518.077759</td>\n",
       "      <td>19.000000</td>\n",
       "      <td>29878202.0</td>\n",
       "      <td>388.131714</td>\n",
       "      <td>387.890350</td>\n",
       "      <td>386.881897</td>\n",
       "    </tr>\n",
       "  </tbody>\n",
       "</table>\n",
       "</div>"
      ],
      "text/plain": [
       "                    Data  Phase A Current  Phase B Current  Phase C Current  \\\n",
       "4574 2018-01-02 14:07:00         3.335057         3.295057         3.335057   \n",
       "4575 2018-01-02 14:07:30         3.325196         3.285196         3.325196   \n",
       "4576 2018-01-02 14:08:00         3.315334         3.275334         3.315334   \n",
       "4577 2018-01-02 14:08:30         3.305472         3.265472         3.305472   \n",
       "4578 2018-01-02 14:09:00         3.295610         3.255610         3.295610   \n",
       "\n",
       "      Current Total  Power Factor  Frequency  Apparent Power  Active Power  \\\n",
       "4574       9.207820    -99.927567  59.981071     2005.604004   2005.488525   \n",
       "4575       8.901662    -99.924942  59.981052     1889.859009   1889.758179   \n",
       "4576       8.595504    -99.922318  59.981030     1762.594360   1762.482056   \n",
       "4577       8.289346    -99.919693  59.981010     1631.342407   1631.209595   \n",
       "4578       7.983187    -99.917068  59.980988     1518.218140   1518.077759   \n",
       "\n",
       "      Reactive Power  Power Production  Phase AB Voltage  Phase BC Voltage  \\\n",
       "4574       21.497658        29878138.0        388.025391        387.982635   \n",
       "4575       19.510870        29878188.0        388.078949        387.959564   \n",
       "4576       19.000000        29878202.0        388.132507        387.936493   \n",
       "4577       19.000000        29878202.0        388.186066        387.913422   \n",
       "4578       19.000000        29878202.0        388.131714        387.890350   \n",
       "\n",
       "      Phase CA Voltage  \n",
       "4574        387.053345  \n",
       "4575        387.010468  \n",
       "4576        386.967621  \n",
       "4577        386.924774  \n",
       "4578        386.881897  "
      ]
     },
     "execution_count": 6,
     "metadata": {},
     "output_type": "execute_result"
    }
   ],
   "source": [
    "data = import_file()\n",
    "data.info()\n",
    "data.head()"
   ]
  },
  {
   "cell_type": "code",
   "execution_count": null,
   "metadata": {},
   "outputs": [],
   "source": [
    "filtered = filter_data(data)\n",
    "filtered.info()\n",
    "filtered.head()"
   ]
  },
  {
   "cell_type": "code",
   "execution_count": 7,
   "metadata": {},
   "outputs": [],
   "source": [
    "df = spark.createDataFrame(filtered)"
   ]
  },
  {
   "cell_type": "code",
   "execution_count": 28,
   "metadata": {},
   "outputs": [],
   "source": [
    "df = df.select(df['*'], weekofyear('Data').alias('WeekOfYear'), date_format('Data', 'u').alias('DayOfWeek'))"
   ]
  },
  {
   "cell_type": "code",
   "execution_count": 29,
   "metadata": {},
   "outputs": [
    {
     "data": {
      "text/plain": [
       "[StructField(Data,TimestampType,true),\n",
       " StructField(Phase A Current,DoubleType,true),\n",
       " StructField(Phase B Current,DoubleType,true),\n",
       " StructField(Phase C Current,DoubleType,true),\n",
       " StructField(Current Total,DoubleType,true),\n",
       " StructField(Power Factor,DoubleType,true),\n",
       " StructField(Frequency,DoubleType,true),\n",
       " StructField(Apparent Power,DoubleType,true),\n",
       " StructField(Active Power,DoubleType,true),\n",
       " StructField(Reactive Power,DoubleType,true),\n",
       " StructField(Power Production,DoubleType,true),\n",
       " StructField(Phase AB Voltage,DoubleType,true),\n",
       " StructField(Phase BC Voltage,DoubleType,true),\n",
       " StructField(Phase CA Voltage,DoubleType,true),\n",
       " StructField(WeekOfYear,IntegerType,true),\n",
       " StructField(DayOfWeek,StringType,true)]"
      ]
     },
     "execution_count": 29,
     "metadata": {},
     "output_type": "execute_result"
    }
   ],
   "source": [
    "df.schema.fields"
   ]
  },
  {
   "cell_type": "code",
   "execution_count": 74,
   "metadata": {},
   "outputs": [
    {
     "name": "stdout",
     "output_type": "stream",
     "text": [
      "+----------+---------+-------------------+-------------------+-----------+-----------+--------+\n",
      "|WeekOfYear|DayOfWeek|         Start Date|           End Date|    Init PP|   Final PP|Total PP|\n",
      "+----------+---------+-------------------+-------------------+-----------+-----------+--------+\n",
      "|         1|        2|2018-01-02 14:07:00|2018-01-02 19:27:30|2.9878138E7|2.9893798E7| 15660.0|\n",
      "|         1|        3|2018-01-03 07:28:30|2018-01-03 19:16:30|2.9893798E7|  2.99297E7| 35902.0|\n",
      "|         1|        4|2018-01-04 06:34:00|2018-01-04 19:37:00|  2.99297E7|2.9980302E7| 50602.0|\n",
      "|         1|        5|2018-01-05 06:47:00|2018-01-05 19:21:30|  2.99804E7|3.0026302E7| 45902.0|\n",
      "|         1|        6|2018-01-06 07:03:00|2018-01-06 19:34:30|  3.00264E7|3.0059502E7| 33102.0|\n",
      "|         1|        7|2018-01-07 07:04:30|2018-01-07 18:29:30|3.0059502E7|3.0089102E7| 29600.0|\n",
      "|         2|        1|2018-01-08 06:40:30|2018-01-08 19:10:30|3.0089102E7|3.0117502E7| 28400.0|\n",
      "|         2|        2|2018-01-09 06:38:00|2018-01-09 09:15:30|3.0117502E7|3.0123002E7|  5500.0|\n",
      "|         2|        3|2018-01-10 18:05:00|2018-01-10 19:31:30|  3.01212E7|3.0122202E7|  1002.0|\n",
      "|         2|        4|2018-01-11 06:38:30|2018-01-11 18:24:00|3.0122202E7|  3.01829E7| 60698.0|\n",
      "|         2|        5|2018-01-12 06:52:30|2018-01-12 19:33:30|   3.0183E7|  3.02184E7| 35400.0|\n",
      "|         2|        6|2018-01-13 06:56:30|2018-01-13 19:43:30|  3.02184E7|3.0262598E7| 44198.0|\n",
      "|         2|        7|2018-01-14 07:00:30|2018-01-14 19:30:30|3.0262598E7|  3.03157E7| 53102.0|\n",
      "|         3|        1|2018-01-15 06:47:00|2018-01-15 18:52:30|3.0315802E7|  3.03676E7| 51798.0|\n",
      "|         3|        2|2018-01-16 06:40:00|2018-01-16 19:23:00|  3.03676E7|3.0427902E7| 60302.0|\n",
      "|         3|        3|2018-01-17 06:46:00|2018-01-17 19:16:00|3.0427902E7|  3.04905E7| 62598.0|\n",
      "|         3|        4|2018-01-18 06:49:30|2018-01-18 19:24:00|  3.04905E7|3.0553502E7| 63002.0|\n",
      "|         3|        5|2018-01-19 06:52:30|2018-01-19 19:17:30|  3.05536E7|  3.06157E7| 62100.0|\n",
      "|         3|        6|2018-01-20 06:44:00|2018-01-20 18:13:00|  3.06157E7|  3.06684E7| 52700.0|\n",
      "|         3|        7|2018-01-21 06:49:30|2018-01-21 19:23:00|  3.06684E7|3.0720998E7| 52598.0|\n",
      "+----------+---------+-------------------+-------------------+-----------+-----------+--------+\n",
      "only showing top 20 rows\n",
      "\n"
     ]
    }
   ],
   "source": [
    "report = df.select('WeekOfYear','DayOfWeek','Data','Power Production').groupBy(\"WeekOfYear\",'DayOfWeek').agg(min(\"Data\").alias('Start Date'), max(\"Data\").alias('End Date'), min(\"Power Production\").alias('Init PP'), max(\"Power Production\").alias('Final PP'), (max(\"Power Production\") -  min(\"Power Production\")).alias('Total PP')).orderBy(asc(\"WeekOfYear\"),asc(\"DayOfWeek\"))\n",
    "report.show()"
   ]
  },
  {
   "cell_type": "code",
   "execution_count": 12,
   "metadata": {},
   "outputs": [
    {
     "data": {
      "text/plain": [
       "[Table(name='electricalvalues', database=None, description=None, tableType='TEMPORARY', isTemporary=True)]"
      ]
     },
     "execution_count": 12,
     "metadata": {},
     "output_type": "execute_result"
    }
   ],
   "source": [
    "catalog_name = \"ElectricalValues\"\n",
    "spark.catalog.dropTempView(catalog_name)\n",
    "df.createOrReplaceTempView(catalog_name)\n",
    "spark.catalog.listTables()"
   ]
  },
  {
   "cell_type": "code",
   "execution_count": null,
   "metadata": {},
   "outputs": [],
   "source": [
    "write_to_csv()"
   ]
  }
 ],
 "metadata": {
  "kernelspec": {
   "display_name": "Python 3",
   "language": "python",
   "name": "python3"
  },
  "language_info": {
   "codemirror_mode": {
    "name": "ipython",
    "version": 3
   },
   "file_extension": ".py",
   "mimetype": "text/x-python",
   "name": "python",
   "nbconvert_exporter": "python",
   "pygments_lexer": "ipython3",
   "version": "3.7.2"
  }
 },
 "nbformat": 4,
 "nbformat_minor": 2
}
