{
 "cells": [
  {
   "cell_type": "code",
   "execution_count": 3,
   "metadata": {},
   "outputs": [],
   "source": [
    "from scipy.io import loadmat\n",
    "import pandas as pd\n",
    "\n"
   ]
  },
  {
   "cell_type": "code",
   "execution_count": 5,
   "metadata": {},
   "outputs": [],
   "source": [
    "mat = loadmat('/Users/hannelita/Development/UNIFEI/dataset_pv_inverters/Inv1/Inv1x155x161x0.mat')"
   ]
  },
  {
   "cell_type": "code",
   "execution_count": 10,
   "metadata": {},
   "outputs": [
    {
     "name": "stdout",
     "output_type": "stream",
     "text": [
      "__header__   <class 'bytes'>\n",
      "__version__   <class 'str'>\n",
      "__globals__   <class 'list'>\n",
      "IDC   <class 'numpy.ndarray'>\n",
      "IL1   <class 'numpy.ndarray'>\n",
      "IN   <class 'numpy.ndarray'>\n",
      "UDC   <class 'numpy.ndarray'>\n",
      "UL1   <class 'numpy.ndarray'>\n",
      "UL1_Sim   <class 'numpy.ndarray'>\n",
      "fS   <class 'numpy.ndarray'>\n",
      "*******************************************************************************\n"
     ]
    }
   ],
   "source": [
    "for key in mat.keys():\n",
    "    print(key,' ', type(mat[key]))\n",
    "print('*' * 79)"
   ]
  },
  {
   "cell_type": "code",
   "execution_count": 13,
   "metadata": {},
   "outputs": [],
   "source": [
    "mat = {k:v for k, v in mat.items() if k[0] != '_'}\n",
    "data = pd.DataFrame({k: pd.Series(v[0]) for k, v in mat.items()})"
   ]
  },
  {
   "cell_type": "code",
   "execution_count": 14,
   "metadata": {},
   "outputs": [
    {
     "data": {
      "text/html": [
       "<div>\n",
       "<style scoped>\n",
       "    .dataframe tbody tr th:only-of-type {\n",
       "        vertical-align: middle;\n",
       "    }\n",
       "\n",
       "    .dataframe tbody tr th {\n",
       "        vertical-align: top;\n",
       "    }\n",
       "\n",
       "    .dataframe thead th {\n",
       "        text-align: right;\n",
       "    }\n",
       "</style>\n",
       "<table border=\"1\" class=\"dataframe\">\n",
       "  <thead>\n",
       "    <tr style=\"text-align: right;\">\n",
       "      <th></th>\n",
       "      <th>IDC</th>\n",
       "      <th>IL1</th>\n",
       "      <th>IN</th>\n",
       "      <th>UDC</th>\n",
       "      <th>UL1</th>\n",
       "      <th>UL1_Sim</th>\n",
       "      <th>fS</th>\n",
       "    </tr>\n",
       "  </thead>\n",
       "  <tbody>\n",
       "    <tr>\n",
       "      <th>0</th>\n",
       "      <td>11.587524</td>\n",
       "      <td>-27.365942</td>\n",
       "      <td>27.544117</td>\n",
       "      <td>398.706055</td>\n",
       "      <td>313.836029</td>\n",
       "      <td>312.583466</td>\n",
       "      <td>1000000.0</td>\n",
       "    </tr>\n",
       "    <tr>\n",
       "      <th>1</th>\n",
       "      <td>11.596680</td>\n",
       "      <td>-27.368994</td>\n",
       "      <td>27.571583</td>\n",
       "      <td>398.754883</td>\n",
       "      <td>313.848236</td>\n",
       "      <td>312.644501</td>\n",
       "      <td>NaN</td>\n",
       "    </tr>\n",
       "    <tr>\n",
       "      <th>2</th>\n",
       "      <td>11.598206</td>\n",
       "      <td>-27.379675</td>\n",
       "      <td>27.586842</td>\n",
       "      <td>398.730469</td>\n",
       "      <td>313.884857</td>\n",
       "      <td>312.717743</td>\n",
       "      <td>NaN</td>\n",
       "    </tr>\n",
       "    <tr>\n",
       "      <th>3</th>\n",
       "      <td>11.593628</td>\n",
       "      <td>-27.388830</td>\n",
       "      <td>27.583790</td>\n",
       "      <td>398.681641</td>\n",
       "      <td>313.945892</td>\n",
       "      <td>312.852020</td>\n",
       "      <td>NaN</td>\n",
       "    </tr>\n",
       "    <tr>\n",
       "      <th>4</th>\n",
       "      <td>11.603546</td>\n",
       "      <td>-27.397985</td>\n",
       "      <td>27.583790</td>\n",
       "      <td>398.779297</td>\n",
       "      <td>314.055756</td>\n",
       "      <td>312.900848</td>\n",
       "      <td>NaN</td>\n",
       "    </tr>\n",
       "  </tbody>\n",
       "</table>\n",
       "</div>"
      ],
      "text/plain": [
       "         IDC        IL1         IN         UDC         UL1     UL1_Sim  \\\n",
       "0  11.587524 -27.365942  27.544117  398.706055  313.836029  312.583466   \n",
       "1  11.596680 -27.368994  27.571583  398.754883  313.848236  312.644501   \n",
       "2  11.598206 -27.379675  27.586842  398.730469  313.884857  312.717743   \n",
       "3  11.593628 -27.388830  27.583790  398.681641  313.945892  312.852020   \n",
       "4  11.603546 -27.397985  27.583790  398.779297  314.055756  312.900848   \n",
       "\n",
       "          fS  \n",
       "0  1000000.0  \n",
       "1        NaN  \n",
       "2        NaN  \n",
       "3        NaN  \n",
       "4        NaN  "
      ]
     },
     "execution_count": 14,
     "metadata": {},
     "output_type": "execute_result"
    }
   ],
   "source": [
    "data.head()"
   ]
  },
  {
   "cell_type": "code",
   "execution_count": null,
   "metadata": {},
   "outputs": [],
   "source": []
  }
 ],
 "metadata": {
  "kernelspec": {
   "display_name": "Python 3",
   "language": "python",
   "name": "python3"
  },
  "language_info": {
   "codemirror_mode": {
    "name": "ipython",
    "version": 3
   },
   "file_extension": ".py",
   "mimetype": "text/x-python",
   "name": "python",
   "nbconvert_exporter": "python",
   "pygments_lexer": "ipython3",
   "version": "3.6.2"
  }
 },
 "nbformat": 4,
 "nbformat_minor": 2
}
