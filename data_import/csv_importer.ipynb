{
 "cells": [
  {
   "cell_type": "code",
   "execution_count": 32,
   "metadata": {},
   "outputs": [],
   "source": [
    "from pyspark.sql.functions import col\n",
    "from pyspark.sql import SQLContext, Row\n",
    "from pyspark.sql.types import DoubleType\n",
    "from pyspark.sql.types import FloatType\n",
    "from pyspark.sql.functions import udf"
   ]
  },
  {
   "cell_type": "code",
   "execution_count": 6,
   "metadata": {},
   "outputs": [
    {
     "data": {
      "text/plain": [
       "[StructField(Data,StringType,true),\n",
       " StructField(Phase A Current,StringType,true),\n",
       " StructField(Phase B Current,StringType,true),\n",
       " StructField(Phase C Current,StringType,true),\n",
       " StructField(Current Total,StringType,true),\n",
       " StructField(Power Factor,StringType,true),\n",
       " StructField(Frequency,StringType,true),\n",
       " StructField(Apparent Power,StringType,true),\n",
       " StructField(Active Power,StringType,true),\n",
       " StructField(Reactive Power,StringType,true),\n",
       " StructField(Power Production,StringType,true),\n",
       " StructField(Phase AB Voltage,StringType,true),\n",
       " StructField(Phase BC Voltage,StringType,true),\n",
       " StructField(Phase CA Voltage,StringType,true)]"
      ]
     },
     "execution_count": 6,
     "metadata": {},
     "output_type": "execute_result"
    }
   ],
   "source": [
    "file_path = \"E:\\\\Cerin_big-data\\\\\"\n",
    "data = spark.read.option(\"delimiter\", \";\").option(\"header\", \"true\").csv(file_path + \"*.csv\")\n",
    "data.schema.fields"
   ]
  },
  {
   "cell_type": "code",
   "execution_count": 7,
   "metadata": {},
   "outputs": [],
   "source": [
    "#sqlContext = SQLContext(spark)\n",
    "#sqlContext.registerDataFrameAsTable(data, \"myTab\")\n",
    "#res = sqlContext.sql(\"SELECT * FROM myTab\")\n",
    "#res.show()\n",
    "#data = data.withColumn(column, data[column].cast(DoubleType()))\n",
    "#data = data.withColumn(column, str(data[column].replace(',', '.')))\n",
    "#data = data.where(data[column] > 10)"
   ]
  },
  {
   "cell_type": "code",
   "execution_count": 8,
   "metadata": {},
   "outputs": [],
   "source": [
    "def show_info(column, percentil, last_size , current_size):\n",
    "    print(\"Column: {:>7} \\t Percentile: {:>18} \\t Before/Current/Removed: {:>8} / {:>8} / {:>5}\"\n",
    "        .format(column, percentil, last_size, current_size, last_size - current_size))"
   ]
  },
  {
   "cell_type": "code",
   "execution_count": 45,
   "metadata": {},
   "outputs": [],
   "source": [
    "def filter_data(data):\n",
    "    last_size = data.count()\n",
    "    colums = [k for k in data.schema.names if 'data' not in k.lower()]\n",
    "    for column in colums:        \n",
    "        data = data.filter(~col(column).isin(['Invalid Data', 'I/O Timeout']))        \n",
    "        commaToDot = udf(lambda x : float(str(x).replace(',', '.')), FloatType())\n",
    "        data=data.withColumn(column,commaToDot(data[column]))\n",
    "        percentil = data.approxQuantile(column, [0.9], 0.5)\n",
    "        print(column, percentil)        \n",
    "        #current_size = data.count()\n",
    "        #show_info(column, percentil, last_size, current_size)        \n",
    "        #last_size = current_size\n",
    "    return data\t"
   ]
  },
  {
   "cell_type": "code",
   "execution_count": 46,
   "metadata": {},
   "outputs": [
    {
     "name": "stdout",
     "output_type": "stream",
     "text": [
      "Phase A Current [17.484657287597656]\n",
      "Phase B Current [17.444656372070312]\n",
      "Phase C Current [17.5040340423584]\n",
      "Current Total [52.240501403808594]\n",
      "Power Factor [-72.7013168334961]\n",
      "Frequency [60.10990905761719]\n",
      "Apparent Power [12069.9736328125]\n",
      "Active Power [12069.935546875]\n",
      "Reactive Power [62.91889572143555]\n",
      "Power Production [39354400.0]\n",
      "Phase AB Voltage [400.58013916015625]\n",
      "Phase BC Voltage [400.38787841796875]\n",
      "Phase CA Voltage [400.38604736328125]\n",
      "+------------------+---------------+---------------+---------------+-------------+------------+---------+--------------+------------+--------------+----------------+----------------+----------------+----------------+\n",
      "|              Data|Phase A Current|Phase B Current|Phase C Current|Current Total|Power Factor|Frequency|Apparent Power|Active Power|Reactive Power|Power Production|Phase AB Voltage|Phase BC Voltage|Phase CA Voltage|\n",
      "+------------------+---------------+---------------+---------------+-------------+------------+---------+--------------+------------+--------------+----------------+----------------+----------------+----------------+\n",
      "|01-jul-18 13:45:30|      10.883566|      10.844591|      10.903052|     32.85274|   -99.71166|     60.0|     7586.0103|   7585.8887|     42.514267|     3.9136724E7|       398.67847|       396.19247|       397.09955|\n",
      "|01-jul-18 13:46:00|      10.860677|      10.821784|      10.880122|    32.808407|  -99.707344|     60.0|     7573.9946|    7573.873|      43.51444|     3.9136776E7|       398.66418|        396.1861|       397.08774|\n",
      "|01-jul-18 13:46:30|      10.837787|      10.798977|      10.857192|    32.764072|   -99.70302|     60.0|     7564.5415|    7564.415|      44.51461|     3.9136824E7|       398.64987|       396.17972|       397.07596|\n",
      "|01-jul-18 13:47:00|      10.814898|       10.77617|      10.834262|    32.719734|   -99.69869|     60.0|      7557.538|   7557.4023|     45.514782|     3.9136876E7|        398.6356|        396.1733|       397.06415|\n",
      "|01-jul-18 13:47:30|      10.792008|      10.753362|      10.811331|      32.6754|  -99.694374|     60.0|      7547.983|   7547.8423|     45.935642|     3.9136924E7|        398.6213|       396.16693|       397.05234|\n",
      "|01-jul-18 13:48:00|      10.769119|      10.730555|      10.788401|    32.631065|   -99.69005|     60.0|     7536.0234|    7535.883|     45.810642|     3.9136976E7|       398.60703|       396.16055|       397.04053|\n",
      "|01-jul-18 13:48:30|       10.74623|      10.707747|     10.7654705|    32.586727|   -99.68572|     60.0|     7530.6504|     7530.51|     45.685642|     3.9137048E7|       398.59274|       396.15417|       397.02872|\n",
      "|01-jul-18 13:49:00|       10.72334|      10.684939|       10.74254|    32.542393|  -99.681404|     60.0|      7531.653|    7531.512|     45.560642|     3.9137148E7|       398.57846|        396.1478|        397.0169|\n",
      "|01-jul-18 13:49:30|      10.700451|      10.662132|       10.71961|     32.49806|   -99.67708|     60.0|      7529.443|    7529.304|     45.435642|     3.9137224E7|       398.56418|       396.14142|       397.00513|\n",
      "|01-jul-18 13:50:00|      10.677562|      10.639325|      10.696679|    32.453724|   -99.67275|     60.0|      7524.192|   7524.0576|     45.310646|     3.9137276E7|        398.5499|         396.135|       396.99332|\n",
      "|01-jul-18 13:50:30|      10.654673|      10.616518|      10.673749|    32.409386|  -99.668434|     60.0|      7518.941|    7518.811|     45.185646|     3.9137328E7|       398.53558|       396.12863|        396.9815|\n",
      "|01-jul-18 13:51:00|      10.631783|       10.59371|      10.650819|     32.36505|   -99.66411|     60.0|       7513.69|   7513.5645|     45.060646|     3.9137376E7|        398.5213|       396.12225|        396.9697|\n",
      "|01-jul-18 13:51:30|      10.608893|      10.570903|      10.627889|    32.320717|   -99.65978|     60.0|     7513.4243|      7513.3|     44.935646|     3.9137428E7|       398.50702|       396.11588|        396.9579|\n",
      "|01-jul-18 13:52:00|      10.586004|      10.548096|      10.604959|    32.276382|  -99.655464|     60.0|      7517.926|   7517.7983|     44.810646|     3.9137476E7|       398.49274|        396.1095|       396.94608|\n",
      "|01-jul-18 13:52:30|      10.563115|      10.525289|      10.582027|    32.232044|   -99.65114|     60.0|     7517.0596|   7516.9307|     44.685646|     3.9137548E7|       398.47845|       396.10312|       396.93427|\n",
      "|01-jul-18 13:53:00|      10.540225|     10.5024805|      10.559097|     32.18771|   -99.64681|     60.0|     7511.0483|   7510.9194|     44.560646|     3.9137648E7|       398.46417|       396.09674|        396.9225|\n",
      "|01-jul-18 13:53:30|      10.517336|      10.479673|      10.536167|    32.143375|  -99.642494|     60.0|     7502.7305|   7502.6025|      44.43565|     3.9137724E7|        398.4499|       396.09033|       396.91068|\n",
      "|01-jul-18 13:54:00|      10.494447|      10.456866|      10.513237|    32.099037|   -99.63817|     60.0|     7492.2334|   7492.1084|      44.31065|     3.9137776E7|        398.4356|       396.08395|       396.89886|\n",
      "|01-jul-18 13:54:30|      10.471558|      10.434058|      10.490307|    32.054703|   -99.63384|     60.0|     7474.8506|    7474.724|      44.18565|     3.9137824E7|        398.4213|       396.07758|       396.88705|\n",
      "|01-jul-18 13:55:00|     10.4486685|      10.411251|      10.467376|     32.01037|  -99.629524|     60.0|      7450.938|   7450.8057|      44.06065|     3.9137876E7|         398.407|        396.0712|       396.87524|\n",
      "+------------------+---------------+---------------+---------------+-------------+------------+---------+--------------+------------+--------------+----------------+----------------+----------------+----------------+\n",
      "only showing top 20 rows\n",
      "\n"
     ]
    }
   ],
   "source": [
    "filtered = filter_data(data)\n",
    "filtered.show()"
   ]
  },
  {
   "cell_type": "code",
   "execution_count": null,
   "metadata": {},
   "outputs": [],
   "source": []
  }
 ],
 "metadata": {
  "kernelspec": {
   "display_name": "Python 3",
   "language": "python",
   "name": "python3"
  },
  "language_info": {
   "codemirror_mode": {
    "name": "ipython",
    "version": 3
   },
   "file_extension": ".py",
   "mimetype": "text/x-python",
   "name": "python",
   "nbconvert_exporter": "python",
   "pygments_lexer": "ipython3",
   "version": "3.7.2"
  }
 },
 "nbformat": 4,
 "nbformat_minor": 2
}
